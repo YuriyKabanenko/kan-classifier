{
 "cells": [
  {
   "cell_type": "markdown",
   "id": "1f72b218-d8f9-4af7-9550-31994a708216",
   "metadata": {},
   "source": [
    "## Data preparement"
   ]
  },
  {
   "cell_type": "code",
   "execution_count": 27,
   "id": "be3d5d7b-991a-4f57-bd10-835e70fd713b",
   "metadata": {},
   "outputs": [],
   "source": [
    "import pandas as pd\n",
    "import time\n",
    "import matplotlib.pyplot as plt\n",
    "from collections import Counter\n",
    "from sklearn.preprocessing import LabelEncoder\n",
    "from sklearn.neural_network import MLPClassifier\n",
    "from sklearn.model_selection import train_test_split\n",
    "\n",
    "\"\"\"Read dataframe\"\"\"\n",
    "df1 = pd.read_csv(\"./ELECTROENCEPHALOGRAM_OF_SENSITIVITY_BODIES/specified_finger.csv\",\n",
    "                  delimiter=\";\", decimal=\".\", header=0)\n",
    "df2 = pd.read_csv(\"./ELECTROENCEPHALOGRAM_OF_SENSITIVITY_BODIES/thumb_finger.csv\",\n",
    "                  delimiter=\";\", decimal=\".\", header=0)\n",
    "\n",
    "\"\"\"Preprocessing data\"\"\"\n",
    "#Addition of target variable\n",
    "df1[\"target\"] = \"specified_finger\"\n",
    "df2[\"target\"] = \"thumb_finger\"\n",
    "#Concatenation dataframes\n",
    "\n",
    "first_10k = df1.iloc[:10000]\n",
    "second_10k = df2.iloc[-10000:]\n",
    "\n",
    "frames = [first_10k, second_10k]\n",
    "df = pd.concat(frames)\n",
    "#Removing duplicate rows\n",
    "df.drop_duplicates(subset=None, keep='first', inplace=True)\n",
    "#Reset index of dataframe\n",
    "df.reset_index(drop=True, inplace=True)\n",
    "#Return column names of dataframe\n",
    "column_names = list(df.columns)\n",
    "#Checking data balance\n",
    "target_var = df[column_names[-1]]\n",
    "balance = Counter(target_var)\n",
    "#Initialization of encoder\n",
    "labelencoder = LabelEncoder()\n",
    "#Encoding target variable\n",
    "df[\"target\"] = labelencoder.fit_transform(df[\"target\"])\n"
   ]
  },
  {
   "cell_type": "markdown",
   "id": "45ca2235-ff10-44bc-a2d8-0af3c9ac6ee6",
   "metadata": {},
   "source": [
    "## Splitting to test & train"
   ]
  },
  {
   "cell_type": "code",
   "execution_count": 28,
   "id": "b2c15006-9c79-4e47-8586-9e892fa31b56",
   "metadata": {},
   "outputs": [],
   "source": [
    "\"\"\"Splitting independent 'x' and dependent 'y'  variables of dataframe 'df'\"\"\"\n",
    "x = df[column_names[0:len(column_names)-1]]\n",
    "#Standardization or mean removal and variance scaling\n",
    "x = (x-x.mean())/x.std()\n",
    "#Converting to numpy array\n",
    "x = x.values\n",
    "#Create target variable\n",
    "y = df[column_names[len(column_names)-1]].values\n",
    "\n",
    "\n",
    "\"\"\"Splitting on training sample and test sample\"\"\"\n",
    "x_train, x_test, y_train, y_test = train_test_split(x, y, test_size=0.25)"
   ]
  },
  {
   "cell_type": "markdown",
   "id": "65d41abf-3e48-440c-8400-581380f783a1",
   "metadata": {},
   "source": [
    "# KAN model"
   ]
  },
  {
   "cell_type": "markdown",
   "id": "06dad750-2854-4821-9499-ecbc9447f62b",
   "metadata": {},
   "source": [
    "## Data preparing"
   ]
  },
  {
   "cell_type": "code",
   "execution_count": 29,
   "id": "30a4a43c-4f11-4997-8e5f-a6a34274e5a8",
   "metadata": {},
   "outputs": [],
   "source": [
    "import torch\n",
    "\n",
    "dtype = torch.get_default_dtype()\n",
    "device = \"cpu\"\n",
    "\n",
    "x_train = torch.from_numpy(x_train[:10000]).type(dtype).to(device)\n",
    "y_train = torch.from_numpy(y_train[:10000]).type(dtype).to(device)\n",
    "\n",
    "x_test = torch.from_numpy(x_test).type(dtype).to(device)\n",
    "y_test = torch.from_numpy(y_test).type(dtype).to(device)\n",
    "\n",
    "custom_dataset = {\n",
    "    'train_input': x_train,\n",
    "    'test_input': x_test,\n",
    "    'train_label': y_train.view(-1, 1),\n",
    "    'test_label': y_test.view(-1, 1)\n",
    "}"
   ]
  },
  {
   "cell_type": "markdown",
   "id": "d8fd1662-1a99-48da-85cc-2cfd614ed1dc",
   "metadata": {},
   "source": [
    "## KAN model"
   ]
  },
  {
   "cell_type": "code",
   "execution_count": 8,
   "id": "7369d9ab-c9c0-461d-8325-92ac928a0c33",
   "metadata": {},
   "outputs": [
    {
     "name": "stdout",
     "output_type": "stream",
     "text": [
      "checkpoint directory created: ./model\n",
      "saving model version 0.0\n",
      "torch.float32\n",
      "torch.float32\n"
     ]
    },
    {
     "name": "stderr",
     "output_type": "stream",
     "text": [
      "| train_loss: 4.33e-01 | test_loss: 4.43e-01 | reg: 3.35e+01 | : 100%|█| 20/20 [00:33<00:00,  1.65s/"
     ]
    },
    {
     "name": "stdout",
     "output_type": "stream",
     "text": [
      "saving model version 0.1\n"
     ]
    },
    {
     "name": "stderr",
     "output_type": "stream",
     "text": [
      "\n"
     ]
    },
    {
     "data": {
      "text/plain": [
       "(0.7226999998092651, 0.7063999772071838)"
      ]
     },
     "execution_count": 8,
     "metadata": {},
     "output_type": "execute_result"
    }
   ],
   "source": [
    "from kan import KAN\n",
    "\n",
    "model = KAN(width=[16,2,1], grid=5, k=3)\n",
    "\n",
    "start_time = time.time()\n",
    "\n",
    "def train_acc():\n",
    "    return torch.mean((torch.round(model(custom_dataset['train_input'])[:,0]) == custom_dataset['train_label'][:,0]).type(dtype))\n",
    "\n",
    "def test_acc():\n",
    "    return torch.mean((torch.round(model(custom_dataset['test_input'])[:,0]) == custom_dataset['test_label'][:,0]).type(dtype))\n",
    "\n",
    "\n",
    "print(custom_dataset['train_input'].dtype)\n",
    "print(custom_dataset['test_input'].dtype)\n",
    "\n",
    "results = model.fit(custom_dataset, opt=\"LBFGS\", steps=20,\n",
    "                      metrics=(train_acc, test_acc), beta=7)\n",
    "end_time = time.time()\n",
    "\n",
    "results['train_acc'][-1], results['test_acc'][-1]"
   ]
  },
  {
   "cell_type": "code",
   "execution_count": 41,
   "id": "f729a6ff-019f-48d4-942e-82de2d490eaf",
   "metadata": {},
   "outputs": [
    {
     "name": "stdout",
     "output_type": "stream",
     "text": [
      "tensor([[0.4970],\n",
      "        [0.4491],\n",
      "        [0.1912],\n",
      "        ...,\n",
      "        [0.3564],\n",
      "        [0.5995],\n",
      "        [0.0826]], grad_fn=<AddBackward0>)\n"
     ]
    }
   ],
   "source": [
    "logits = model(x_test)\n",
    "print(logits)\n",
    "y_pred = torch.round(torch.relu(logits))"
   ]
  },
  {
   "cell_type": "code",
   "execution_count": 42,
   "id": "e1eafa5a-64b7-43d9-83da-2c37b712a6ee",
   "metadata": {},
   "outputs": [
    {
     "name": "stdout",
     "output_type": "stream",
     "text": [
      "[0. 1.]\n",
      "[0. 1.]\n"
     ]
    },
    {
     "ename": "TypeError",
     "evalue": "'float' object is not callable",
     "output_type": "error",
     "traceback": [
      "\u001b[1;31m---------------------------------------------------------------------------\u001b[0m",
      "\u001b[1;31mTypeError\u001b[0m                                 Traceback (most recent call last)",
      "Cell \u001b[1;32mIn[42], line 10\u001b[0m\n\u001b[0;32m      7\u001b[0m \u001b[38;5;28mprint\u001b[39m(np\u001b[38;5;241m.\u001b[39munique(y_test_numpy))\n\u001b[0;32m      8\u001b[0m \u001b[38;5;28mprint\u001b[39m(np\u001b[38;5;241m.\u001b[39munique(y_pred_numpy))\n\u001b[1;32m---> 10\u001b[0m acc_score \u001b[38;5;241m=\u001b[39m \u001b[43maccuracy_score\u001b[49m\u001b[43m(\u001b[49m\u001b[43my_test_numpy\u001b[49m\u001b[43m,\u001b[49m\u001b[43m \u001b[49m\u001b[43my_pred_numpy\u001b[49m\u001b[43m)\u001b[49m\n\u001b[0;32m     11\u001b[0m \u001b[38;5;66;03m#Compute the 'f1-score'\u001b[39;00m\n\u001b[0;32m     12\u001b[0m f1 \u001b[38;5;241m=\u001b[39m f1_score(y_test_numpy, y_pred_numpy)\n",
      "\u001b[1;31mTypeError\u001b[0m: 'float' object is not callable"
     ]
    }
   ],
   "source": [
    "from sklearn.metrics import f1_score, roc_auc_score\n",
    "import numpy as np\n",
    "\n",
    "y_test_numpy = y_test.detach().numpy()\n",
    "y_pred_numpy = y_pred.detach().numpy().ravel()\n",
    "\n",
    "print(np.unique(y_test_numpy))\n",
    "print(np.unique(y_pred_numpy))\n",
    "\n",
    "#Compute the 'accuracy-score'\n",
    "acc_score = accuracy_score(y_test_numpy, y_pred_numpy)\n",
    "#Compute the 'f1-score'\n",
    "f1 = f1_score(y_test_numpy, y_pred_numpy)\n",
    "#Compute the 'roc-auc'\n",
    "roc_auc = roc_auc_score(y_test_numpy, y_pred_numpy)\n",
    "\n",
    "acc_score, f1, roc_auc"
   ]
  },
  {
   "cell_type": "code",
   "execution_count": null,
   "id": "e48befc0-9b39-41cd-aeee-fca45fd7ce39",
   "metadata": {},
   "outputs": [],
   "source": []
  }
 ],
 "metadata": {
  "kernelspec": {
   "display_name": "Python 3 (ipykernel)",
   "language": "python",
   "name": "python3"
  },
  "language_info": {
   "codemirror_mode": {
    "name": "ipython",
    "version": 3
   },
   "file_extension": ".py",
   "mimetype": "text/x-python",
   "name": "python",
   "nbconvert_exporter": "python",
   "pygments_lexer": "ipython3",
   "version": "3.11.7"
  }
 },
 "nbformat": 4,
 "nbformat_minor": 5
}
