{
 "cells": [
  {
   "cell_type": "markdown",
   "id": "1f72b218-d8f9-4af7-9550-31994a708216",
   "metadata": {},
   "source": [
    "## Data preparement"
   ]
  },
  {
   "cell_type": "code",
   "execution_count": 1,
   "id": "be3d5d7b-991a-4f57-bd10-835e70fd713b",
   "metadata": {},
   "outputs": [
    {
     "name": "stdout",
     "output_type": "stream",
     "text": [
      "(17990, 17)\n",
      "(18007, 17)\n",
      "(35997, 17)\n"
     ]
    }
   ],
   "source": [
    "import pandas as pd\n",
    "import time\n",
    "import matplotlib.pyplot as plt\n",
    "from collections import Counter\n",
    "from sklearn.preprocessing import LabelEncoder\n",
    "from sklearn.neural_network import MLPClassifier\n",
    "from sklearn.model_selection import train_test_split\n",
    "\n",
    "\"\"\"Read dataframe\"\"\"\n",
    "df1 = pd.read_csv(\"./ELECTROENCEPHALOGRAM_OF_SENSITIVITY_BODIES/specified_finger.csv\",\n",
    "                  delimiter=\";\", decimal=\".\", header=0)\n",
    "df2 = pd.read_csv(\"./ELECTROENCEPHALOGRAM_OF_SENSITIVITY_BODIES/thumb_finger.csv\",\n",
    "                  delimiter=\";\", decimal=\".\", header=0)\n",
    "\n",
    "\"\"\"Preprocessing data\"\"\"\n",
    "#Addition of target variable\n",
    "df1[\"target\"] = \"specified_finger\"\n",
    "df2[\"target\"] = \"thumb_finger\"\n",
    "#Concatenation dataframes\n",
    "\n",
    "specified_finger = df1.sample(frac=0.2)\n",
    "thumb_finger = df2.sample(frac=0.2)\n",
    "\n",
    "print(specified_finger.shape)\n",
    "print(thumb_finger.shape)\n",
    "\n",
    "frames = [specified_finger, thumb_finger]\n",
    "\n",
    "df = pd.concat(frames)\n",
    "\n",
    "print(df.shape)\n",
    "\n",
    "#Removing duplicate rows\n",
    "df.drop_duplicates(subset=None, keep='first', inplace=True)\n",
    "#Reset index of dataframe\n",
    "df.reset_index(drop=True, inplace=True)\n",
    "#Return column names of dataframe\n",
    "column_names = list(df.columns)\n",
    "#Checking data balance\n",
    "target_var = df[column_names[-1]]\n",
    "balance = Counter(target_var)\n",
    "#Initialization of encoder\n",
    "labelencoder = LabelEncoder()\n",
    "#Encoding target variable\n",
    "df[\"target\"] = labelencoder.fit_transform(df[\"target\"])"
   ]
  },
  {
   "cell_type": "markdown",
   "id": "45ca2235-ff10-44bc-a2d8-0af3c9ac6ee6",
   "metadata": {},
   "source": [
    "## Splitting to test & train"
   ]
  },
  {
   "cell_type": "code",
   "execution_count": 2,
   "id": "b2c15006-9c79-4e47-8586-9e892fa31b56",
   "metadata": {},
   "outputs": [],
   "source": [
    "\"\"\"Splitting independent 'x' and dependent 'y'  variables of dataframe 'df'\"\"\"\n",
    "x = df[column_names[0:len(column_names)-1]]\n",
    "#Standardization or mean removal and variance scaling\n",
    "x = (x-x.mean())/x.std()\n",
    "#Converting to numpy array\n",
    "x = x.values\n",
    "#Create target variable\n",
    "y = df[column_names[len(column_names)-1]].values\n",
    "\n",
    "\"\"\"Splitting on training sample and test sample\"\"\"\n",
    "x_train, x_test, y_train, y_test = train_test_split(x, y, test_size=0.2)"
   ]
  },
  {
   "cell_type": "markdown",
   "id": "b728149a-6726-4e18-b9c9-0ee7d227f4c6",
   "metadata": {},
   "source": [
    "# MLP model"
   ]
  },
  {
   "cell_type": "markdown",
   "id": "466e2931-ac59-4dd0-9399-6d63d04f4ccc",
   "metadata": {},
   "source": [
    "## MLP training"
   ]
  },
  {
   "cell_type": "code",
   "execution_count": 3,
   "id": "222964b9-c5ca-4555-93ad-b64e8dccdf8f",
   "metadata": {},
   "outputs": [
    {
     "name": "stdout",
     "output_type": "stream",
     "text": [
      "Execution time: 68.66433954238892 seconds\n"
     ]
    },
    {
     "name": "stderr",
     "output_type": "stream",
     "text": [
      "C:\\Users\\Yuriy\\AppData\\Local\\Packages\\PythonSoftwareFoundation.Python.3.11_qbz5n2kfra8p0\\LocalCache\\local-packages\\Python311\\site-packages\\sklearn\\neural_network\\_multilayer_perceptron.py:690: ConvergenceWarning: Stochastic Optimizer: Maximum iterations (200) reached and the optimization hasn't converged yet.\n",
      "  warnings.warn(\n"
     ]
    },
    {
     "data": {
      "text/plain": [
       "(0.7770833333333333, 0.7732089868588385, 0.7770317761088088)"
      ]
     },
     "execution_count": 3,
     "metadata": {},
     "output_type": "execute_result"
    }
   ],
   "source": [
    "from sklearn.metrics import f1_score, roc_auc_score, accuracy_score\n",
    "from sklearn.neural_network import MLPClassifier\n",
    "\n",
    "mlp = MLPClassifier(activation='logistic', batch_size=25, max_iter=200)\n",
    "\n",
    "start_time = time.time()\n",
    "\n",
    "mlp.fit(x_train, y_train)\n",
    "\n",
    "end_time = time.time()\n",
    "execution_time = end_time - start_time\n",
    "print(f\"Execution time: {execution_time} seconds\")\n",
    "\n",
    "y_pred = mlp.predict(x_test)\n",
    "y_pred_prob = mlp.predict_proba(x_test)\n",
    "\n",
    "acc_score = accuracy_score(y_test, y_pred)\n",
    "f1 = f1_score(y_test, y_pred)\n",
    "roc_auc = roc_auc_score(y_test, y_pred)\n",
    "\n",
    "acc_score, f1, roc_auc"
   ]
  },
  {
   "cell_type": "markdown",
   "id": "65d41abf-3e48-440c-8400-581380f783a1",
   "metadata": {},
   "source": [
    "# KAN model"
   ]
  },
  {
   "cell_type": "markdown",
   "id": "06dad750-2854-4821-9499-ecbc9447f62b",
   "metadata": {},
   "source": [
    "## Data preparing"
   ]
  },
  {
   "cell_type": "code",
   "execution_count": 8,
   "id": "03f04245-4c07-4526-9bd3-16c6048b4213",
   "metadata": {},
   "outputs": [
    {
     "data": {
      "text/plain": [
       "array([[0., 1.],\n",
       "       [1., 0.],\n",
       "       [1., 0.],\n",
       "       [0., 1.],\n",
       "       [1., 0.]])"
      ]
     },
     "execution_count": 8,
     "metadata": {},
     "output_type": "execute_result"
    }
   ],
   "source": [
    "import numpy as np\n",
    "num_classes = 2\n",
    "\n",
    "one_hot_encoded = np.eye(num_classes)[y]\n",
    "\n",
    "\"\"\"Splitting on training sample and test sample\"\"\"\n",
    "x_train, x_test, y_train, y_test = train_test_split(x, one_hot_encoded, test_size=0.2)\n",
    "\n",
    "y_train[:5]"
   ]
  },
  {
   "cell_type": "code",
   "execution_count": 9,
   "id": "30a4a43c-4f11-4997-8e5f-a6a34274e5a8",
   "metadata": {},
   "outputs": [],
   "source": [
    "import torch\n",
    "\n",
    "dtype = torch.get_default_dtype()\n",
    "device = \"cpu\"\n",
    "    \n",
    "x_train = torch.from_numpy(x_train).type(dtype).to(device)\n",
    "y_train = torch.from_numpy(y_train).type(dtype).to(device)\n",
    "\n",
    "x_test = torch.from_numpy(x_test).type(dtype).to(device)\n",
    "y_test = torch.from_numpy(y_test).type(dtype).to(device)\n",
    "\n",
    "custom_dataset = {\n",
    "    'train_input': x_train,\n",
    "    'test_input': x_test,\n",
    "    'train_label': y_train,\n",
    "    'test_label': y_test\n",
    "}"
   ]
  },
  {
   "cell_type": "markdown",
   "id": "d8fd1662-1a99-48da-85cc-2cfd614ed1dc",
   "metadata": {},
   "source": [
    "## KAN training"
   ]
  },
  {
   "cell_type": "code",
   "execution_count": 10,
   "id": "7369d9ab-c9c0-461d-8325-92ac928a0c33",
   "metadata": {},
   "outputs": [
    {
     "name": "stdout",
     "output_type": "stream",
     "text": [
      "checkpoint directory created: ./model\n",
      "saving model version 0.0\n"
     ]
    },
    {
     "name": "stderr",
     "output_type": "stream",
     "text": [
      "| train_loss: 6.56e-01 | test_loss: 6.87e-01 | reg: 4.92e+01 | : 100%|█| 100/100 [03:04<00:00,  1.85"
     ]
    },
    {
     "name": "stdout",
     "output_type": "stream",
     "text": [
      "saving model version 0.1\n"
     ]
    },
    {
     "name": "stderr",
     "output_type": "stream",
     "text": [
      "\n"
     ]
    }
   ],
   "source": [
    "from kan import KAN\n",
    "\n",
    "model = KAN(width=[16, 5, 3, 2], grid=5, k=3)\n",
    "\n",
    "def train_acc():\n",
    "    return torch.mean((torch.argmax(model(custom_dataset['train_input'])[:,0]) == custom_dataset['train_label'][:,0]).type(dtype))\n",
    "\n",
    "def test_acc():\n",
    "    return torch.mean((torch.argmax(model(custom_dataset['test_input'])[:,0]) == custom_dataset['test_label'][:,0]).type(dtype))\n",
    "\n",
    "start_time = time.time()\n",
    "\n",
    "results = model.fit(custom_dataset, opt=\"LBFGS\", steps=100,\n",
    "                    batch=x_test.shape[0], loss_fn=torch.nn.CrossEntropyLoss(), update_grid = False)\n",
    "end_time = time.time()"
   ]
  },
  {
   "cell_type": "code",
   "execution_count": 11,
   "id": "68775ef7-d3f2-4f23-8ddd-de1095b076ca",
   "metadata": {},
   "outputs": [
    {
     "data": {
      "text/plain": [
       "184.56576991081238"
      ]
     },
     "execution_count": 11,
     "metadata": {},
     "output_type": "execute_result"
    }
   ],
   "source": [
    "execution_time = end_time - start_time\n",
    "execution_time"
   ]
  },
  {
   "cell_type": "code",
   "execution_count": 12,
   "id": "f729a6ff-019f-48d4-942e-82de2d490eaf",
   "metadata": {},
   "outputs": [
    {
     "name": "stdout",
     "output_type": "stream",
     "text": [
      "torch.Size([7200, 2])\n"
     ]
    },
    {
     "data": {
      "text/plain": [
       "tensor([0, 1, 0, 1, 1, 1, 0, 1, 0, 1])"
      ]
     },
     "execution_count": 12,
     "metadata": {},
     "output_type": "execute_result"
    }
   ],
   "source": [
    "logits = model(x_test)\n",
    "logits[:10]\n",
    "print(logits.shape)\n",
    "y_pred = torch.argmax(logits, dim=1)\n",
    "\n",
    "y_pred[:10]"
   ]
  },
  {
   "cell_type": "markdown",
   "id": "b8945f76-f5b2-4739-ab06-0a779d7a71a2",
   "metadata": {},
   "source": [
    "## KAN accuracy testing"
   ]
  },
  {
   "cell_type": "code",
   "execution_count": 13,
   "id": "e1eafa5a-64b7-43d9-83da-2c37b712a6ee",
   "metadata": {},
   "outputs": [
    {
     "name": "stdout",
     "output_type": "stream",
     "text": [
      "[0 1]\n"
     ]
    },
    {
     "data": {
      "text/plain": [
       "(0.7438888888888889, 0.7384397163120567, 0.7440116558469517)"
      ]
     },
     "execution_count": 13,
     "metadata": {},
     "output_type": "execute_result"
    }
   ],
   "source": [
    "from sklearn.metrics import f1_score, roc_auc_score, accuracy_score\n",
    "import numpy as np\n",
    "\n",
    "y_test_numpy = torch.argmax(y_test, dim=1).detach().numpy()\n",
    "y_pred_numpy = y_pred.detach().numpy()\n",
    "#y_pred_numpy = np.where((y_pred_numpy < 0.5) | (y_pred_numpy < 0), 0, 1)\n",
    "\n",
    "print(np.unique(y_pred_numpy))\n",
    "\n",
    "#Compute the 'accuracy-score'\n",
    "acc_score = accuracy_score(y_test_numpy, y_pred_numpy)\n",
    "#Compute the 'f1-score'\n",
    "f1 = f1_score(y_test_numpy, y_pred_numpy)\n",
    "#Compute the 'roc-auc'\n",
    "roc_auc = roc_auc_score(y_test_numpy, y_pred_numpy)\n",
    "\n",
    "acc_score, f1, roc_auc"
   ]
  },
  {
   "cell_type": "code",
   "execution_count": null,
   "id": "08de1e5a-5e31-4387-a245-a8b3798acdbc",
   "metadata": {},
   "outputs": [],
   "source": []
  }
 ],
 "metadata": {
  "kernelspec": {
   "display_name": "Python 3 (ipykernel)",
   "language": "python",
   "name": "python3"
  },
  "language_info": {
   "codemirror_mode": {
    "name": "ipython",
    "version": 3
   },
   "file_extension": ".py",
   "mimetype": "text/x-python",
   "name": "python",
   "nbconvert_exporter": "python",
   "pygments_lexer": "ipython3",
   "version": "3.11.7"
  }
 },
 "nbformat": 4,
 "nbformat_minor": 5
}
